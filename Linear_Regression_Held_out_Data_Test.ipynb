{
  "nbformat": 4,
  "nbformat_minor": 0,
  "metadata": {
    "colab": {
      "provenance": []
    },
    "kernelspec": {
      "name": "python3",
      "display_name": "Python 3"
    },
    "language_info": {
      "name": "python"
    }
  },
  "cells": [
    {
      "cell_type": "markdown",
      "source": [
        "# Testing Linear Regression Model on Held-out Data"
      ],
      "metadata": {
        "id": "OLKlBMgFNFke"
      }
    },
    {
      "cell_type": "code",
      "execution_count": null,
      "metadata": {
        "colab": {
          "base_uri": "https://localhost:8080/"
        },
        "id": "HHlymbS_3Uy9",
        "outputId": "aeabd50c-7e5d-4366-d352-78c868750962"
      },
      "outputs": [
        {
          "output_type": "stream",
          "name": "stdout",
          "text": [
            "To authorize access needed by Earth Engine, open the following URL in a web browser and follow the instructions. If the web browser does not start automatically, please manually browse the URL below.\n",
            "\n",
            "    https://code.earthengine.google.com/client-auth?scopes=https%3A//www.googleapis.com/auth/earthengine%20https%3A//www.googleapis.com/auth/devstorage.full_control&request_id=RLSvfyZKGQDrlbx9o2lBgT6D0e7LwY09b_f28-v65Xw&tc=cm7lxqmclQ8ZnNQQ77xu2S04Xf3ceepAKYVhDd8FMxw&cc=9FTkg6ZY5OuGc5KkLBYqQeicbEJ9uhZ6yClyDjBWkuA\n",
            "\n",
            "The authorization workflow will generate a code, which you should paste in the box below.\n",
            "Enter verification code: 4/1AfJohXkQ_5-b1Pf-KE5jzd7B3O3qA8kcccKDah-6GBke9_M3GaWK5T-I1wg\n",
            "\n",
            "Successfully saved authorization token.\n"
          ]
        }
      ],
      "source": [
        "import ee\n",
        "ee.Authenticate()\n",
        "ee.Initialize()"
      ]
    },
    {
      "cell_type": "markdown",
      "source": [
        "### Import held out data"
      ],
      "metadata": {
        "id": "8S0EocZ_OXCE"
      }
    },
    {
      "cell_type": "code",
      "source": [
        "# bring in the last 10 percent of data for generalizing\n",
        "testing = ee.FeatureCollection('users/aspenjkmorgan/k_folds/test')\n",
        "testing.first().getInfo()"
      ],
      "metadata": {
        "colab": {
          "base_uri": "https://localhost:8080/"
        },
        "id": "vcf29_N1OUoD",
        "outputId": "9faac0eb-0a5e-48ec-9311-fac2bee2c71a"
      },
      "execution_count": null,
      "outputs": [
        {
          "output_type": "execute_result",
          "data": {
            "text/plain": [
              "{'type': 'Feature',\n",
              " 'geometry': {'type': 'Point', 'coordinates': [-114.189259, 48.363709]},\n",
              " 'id': '00000000000000000000',\n",
              " 'properties': {'DPT': 5.050012111663818,\n",
              "  'PBLH': 903.87353515625,\n",
              "  'PRES': 91148.5,\n",
              "  'RH': 59.955150648997744,\n",
              "  'TMP': 12.624994277954102,\n",
              "  'WDIR': 201.3000030517578,\n",
              "  'WIND': 1.7549999952316284,\n",
              "  'aod': 0.217,\n",
              "  'pm25': 3.103142857,\n",
              "  'random': 0.9806150715932024,\n",
              "  'station': 'Flathead Valley',\n",
              "  'system:time_start': 1339092000000}}"
            ]
          },
          "metadata": {},
          "execution_count": 3
        }
      ]
    },
    {
      "cell_type": "markdown",
      "source": [
        "### Use best split of data for training the model"
      ],
      "metadata": {
        "id": "nUrWLh1mPNaD"
      }
    },
    {
      "cell_type": "code",
      "source": [
        "# best fold of training data\n",
        "training = ee.FeatureCollection('users/aspenjkmorgan/k_folds/training_fold_9')\n",
        "training.first().getInfo()"
      ],
      "metadata": {
        "colab": {
          "base_uri": "https://localhost:8080/"
        },
        "id": "Yz1XsbhpPNsZ",
        "outputId": "3d3201db-0f8e-4966-b254-01c3d177ec74"
      },
      "execution_count": null,
      "outputs": [
        {
          "output_type": "execute_result",
          "data": {
            "text/plain": [
              "{'type': 'Feature',\n",
              " 'geometry': {'type': 'Point', 'coordinates': [-114.189259, 48.363709]},\n",
              " 'id': '00000000000000000000',\n",
              " 'properties': {'DPT': -4.599997043609619,\n",
              "  'PBLH': 66.51596069335938,\n",
              "  'PRES': 91613.5,\n",
              "  'RH': 67.44328718390516,\n",
              "  'TMP': 0.7449890375137329,\n",
              "  'WDIR': 234.10000610351562,\n",
              "  'WIND': 0.5600000023841858,\n",
              "  'aod': 0.008,\n",
              "  'pm25': 5.5785,\n",
              "  'random': 0.006469227008691791,\n",
              "  'station': 'Flathead Valley',\n",
              "  'system:time_start': 1325534400000}}"
            ]
          },
          "metadata": {},
          "execution_count": 2
        }
      ]
    },
    {
      "cell_type": "markdown",
      "source": [
        "### Helper functions"
      ],
      "metadata": {
        "id": "TrC9rhOQPSvq"
      }
    },
    {
      "cell_type": "code",
      "source": [
        "# Compute the difference between computed pm25 and actual\n",
        "def difference(feature):\n",
        "  diff = ee.Number(feature.get('pm_cal')) \\\n",
        "    .subtract(ee.Number(feature.get('pm25')))\n",
        "  # Return the feature with the squared difference set to the 'diff' property.\n",
        "  return feature.set('sq_diff', diff.pow(2))\n",
        "\n",
        "def getTss(feature):\n",
        "  buf = ee.Number(feature.get('pm25')).subtract(ee.Number(mean_actual))\n",
        "  return feature.set('tss', buf.pow(2))"
      ],
      "metadata": {
        "id": "COmRDVMoPPIN"
      },
      "execution_count": null,
      "outputs": []
    },
    {
      "cell_type": "markdown",
      "source": [
        "### Linear Regression Model"
      ],
      "metadata": {
        "id": "L4vHYQotPdBs"
      }
    },
    {
      "cell_type": "code",
      "source": [
        "lr_model = training.reduceColumns(**{\n",
        "    'reducer': ee.Reducer.linearFit(),\n",
        "    'selectors': ['aod', 'pm25']})\n",
        "yint = lr_model.get('offset')\n",
        "slope = lr_model.get('scale')\n",
        "\n",
        "def applyLinearModel(feature):\n",
        "  pm_cal = ee.Number(feature.get('aod')).multiply(slope).add(yint)\n",
        "  return feature.set('pm_cal', pm_cal)"
      ],
      "metadata": {
        "id": "0tl-pGzrPmr5"
      },
      "execution_count": null,
      "outputs": []
    },
    {
      "cell_type": "code",
      "source": [
        "# get predictions\n",
        "testing_applied = ee.FeatureCollection(testing.map(applyLinearModel))"
      ],
      "metadata": {
        "id": "INJlQG4SPVYH"
      },
      "execution_count": null,
      "outputs": []
    },
    {
      "cell_type": "code",
      "source": [
        "testing_applied.first().getInfo()"
      ],
      "metadata": {
        "colab": {
          "base_uri": "https://localhost:8080/"
        },
        "id": "LDrj6RNqPoo7",
        "outputId": "59eae58b-4c52-466c-de77-51fc7e4d5e26"
      },
      "execution_count": null,
      "outputs": [
        {
          "output_type": "execute_result",
          "data": {
            "text/plain": [
              "{'type': 'Feature',\n",
              " 'geometry': {'type': 'Point', 'coordinates': [-114.189259, 48.363709]},\n",
              " 'id': '00000000000000000000',\n",
              " 'properties': {'DPT': 5.050012111663818,\n",
              "  'PBLH': 903.87353515625,\n",
              "  'PRES': 91148.5,\n",
              "  'RH': 59.955150648997744,\n",
              "  'TMP': 12.624994277954102,\n",
              "  'WDIR': 201.3000030517578,\n",
              "  'WIND': 1.7549999952316284,\n",
              "  'aod': 0.217,\n",
              "  'pm25': 3.103142857,\n",
              "  'pm_cal': 9.893607146696313,\n",
              "  'random': 0.9806150715932024,\n",
              "  'station': 'Flathead Valley',\n",
              "  'system:time_start': 1339092000000}}"
            ]
          },
          "metadata": {},
          "execution_count": 7
        }
      ]
    },
    {
      "cell_type": "markdown",
      "source": [
        "### Calculate Metrics (RMSE and $R^2$)"
      ],
      "metadata": {
        "id": "nSUTBzOrPujk"
      }
    },
    {
      "cell_type": "code",
      "source": [
        "mean_actual = testing_applied.aggregate_mean('pm25')\n",
        "testing_applied = testing_applied.map(difference)\n",
        "testing_applied = testing_applied.map(getTss)\n",
        "\n",
        "# RMSE for validation data\n",
        "testing_rmse = ee.Number(testing_applied.reduceColumns(ee.Reducer.mean(), ['sq_diff']).get('mean')).sqrt()"
      ],
      "metadata": {
        "id": "NARlip-DPu31"
      },
      "execution_count": null,
      "outputs": []
    },
    {
      "cell_type": "code",
      "source": [
        "print('RMSE: ' + str(testing_rmse.getInfo()))"
      ],
      "metadata": {
        "colab": {
          "base_uri": "https://localhost:8080/"
        },
        "id": "YCZaF2PiPwyq",
        "outputId": "401e8874-7b4e-41db-96c2-0bc765187ce5"
      },
      "execution_count": null,
      "outputs": [
        {
          "output_type": "stream",
          "name": "stdout",
          "text": [
            "RMSE: 11.53846669985823\n"
          ]
        }
      ]
    },
    {
      "cell_type": "code",
      "source": [
        "# get R2\n",
        "rss = ee.Number(testing_applied.reduceColumns(ee.Reducer.sum(), ['sq_diff']).get('sum'))\n",
        "tss = ee.Number(testing_applied.reduceColumns(ee.Reducer.sum(), ['tss']).get('sum'))\n",
        "r2 = ee.Number(1).subtract(rss.divide(tss))"
      ],
      "metadata": {
        "id": "sND2gRiiPw07"
      },
      "execution_count": null,
      "outputs": []
    },
    {
      "cell_type": "code",
      "source": [
        "print('R2: ' + str(r2.getInfo()))"
      ],
      "metadata": {
        "colab": {
          "base_uri": "https://localhost:8080/"
        },
        "id": "kRBvTNAkP0Ve",
        "outputId": "8996d8dd-2d90-4cd1-d2a0-659a24405c87"
      },
      "execution_count": null,
      "outputs": [
        {
          "output_type": "stream",
          "name": "stdout",
          "text": [
            "R2: 0.4368977890880432\n"
          ]
        }
      ]
    }
  ]
}